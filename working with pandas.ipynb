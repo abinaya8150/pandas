{
 "cells": [
  {
   "cell_type": "code",
   "execution_count": null,
   "id": "e71ae300",
   "metadata": {},
   "outputs": [],
   "source": [
    "import pandas as pd"
   ]
  },
  {
   "cell_type": "code",
   "execution_count": null,
   "id": "1e0ecde4",
   "metadata": {},
   "outputs": [],
   "source": [
    "pd.__version__"
   ]
  },
  {
   "cell_type": "code",
   "execution_count": null,
   "id": "e8c0cfba",
   "metadata": {},
   "outputs": [],
   "source": [
    "a1=pd.Series(['one','2','3.5','2+3j','five'],index=[0,1,2,3,4])"
   ]
  },
  {
   "cell_type": "code",
   "execution_count": null,
   "id": "24cf3dae",
   "metadata": {},
   "outputs": [],
   "source": [
    "print(a1)"
   ]
  },
  {
   "cell_type": "code",
   "execution_count": null,
   "id": "fa695651",
   "metadata": {
    "scrolled": true
   },
   "outputs": [],
   "source": [
    "season={\"rainy\":{1:'nov',2:'dec',3:'jan',4:'feb'},\"dry\":{1:'sep',2:'aug',\n",
    "                                                         3:'mar',4:'may'}}"
   ]
  },
  {
   "cell_type": "code",
   "execution_count": null,
   "id": "6279dbb4",
   "metadata": {},
   "outputs": [],
   "source": [
    "d=pd.DataFrame(season,columns=[\"rainy\",\"dry\"])"
   ]
  },
  {
   "cell_type": "code",
   "execution_count": null,
   "id": "b8ce9dd7",
   "metadata": {},
   "outputs": [],
   "source": [
    "d"
   ]
  },
  {
   "cell_type": "code",
   "execution_count": null,
   "id": "83b5f402",
   "metadata": {},
   "outputs": [],
   "source": [
    "season={\"rainy\":{1:'nov',2:'dec',3:'jan',4:'feb'},\"dry\":{1:'sep',2:'aug',\n",
    "                                                         3:'mar',4:'may'},\"win\":{1:'may',2:'jan',3:'feb',4:'dec'}}"
   ]
  },
  {
   "cell_type": "code",
   "execution_count": null,
   "id": "84a37b6e",
   "metadata": {},
   "outputs": [],
   "source": [
    "d=pd.DataFrame(season,columns=[\"rainy\",\"dry\",\"win\"])"
   ]
  },
  {
   "cell_type": "code",
   "execution_count": null,
   "id": "69a53b3b",
   "metadata": {},
   "outputs": [],
   "source": [
    "d"
   ]
  },
  {
   "cell_type": "code",
   "execution_count": null,
   "id": "babc3188",
   "metadata": {},
   "outputs": [],
   "source": [
    "import numpy as np"
   ]
  },
  {
   "cell_type": "code",
   "execution_count": null,
   "id": "253a6b83",
   "metadata": {
    "scrolled": false
   },
   "outputs": [],
   "source": [
    "a=pd.DataFrame(np.random.randint(500,1000,size=(25,6)),columns=list('abcdef'))"
   ]
  },
  {
   "cell_type": "code",
   "execution_count": null,
   "id": "f21f027f",
   "metadata": {},
   "outputs": [],
   "source": [
    "'C:/Users/Admin/Documents/semester4 abi.csv'"
   ]
  },
  {
   "cell_type": "code",
   "execution_count": null,
   "id": "a5acddbb",
   "metadata": {
    "scrolled": true
   },
   "outputs": [],
   "source": [
    "a.to_csv('C:/Users/Admin/Documents/semester4 abi.csv')"
   ]
  },
  {
   "cell_type": "code",
   "execution_count": null,
   "id": "b3299184",
   "metadata": {},
   "outputs": [],
   "source": [
    "d=pd.read_csv('C:/Users/Admin/Documents/semester4 abi.csv')"
   ]
  },
  {
   "cell_type": "code",
   "execution_count": null,
   "id": "bebfd08e",
   "metadata": {},
   "outputs": [],
   "source": [
    "print(a)"
   ]
  },
  {
   "cell_type": "code",
   "execution_count": null,
   "id": "effd8ffd",
   "metadata": {},
   "outputs": [],
   "source": [
    "import matplotlib.pyplot as plt\n",
    "from mpl_toolkits.mplot3d import Axes3D\n",
    "%matplotlib inline"
   ]
  },
  {
   "cell_type": "code",
   "execution_count": null,
   "id": "41372515",
   "metadata": {},
   "outputs": [],
   "source": [
    "data={'movie':['dmd','kodi','veeran','singam'],'rating':[1,2,3,4],'year':[2001,2002,2003,2004]}"
   ]
  },
  {
   "cell_type": "code",
   "execution_count": null,
   "id": "edecefed",
   "metadata": {},
   "outputs": [],
   "source": [
    "dataframe = pd.DataFrame(data,columns=['movie','rating','year'])"
   ]
  },
  {
   "cell_type": "code",
   "execution_count": null,
   "id": "9bdf5c22",
   "metadata": {},
   "outputs": [],
   "source": [
    "dataframe"
   ]
  },
  {
   "cell_type": "code",
   "execution_count": null,
   "id": "78bfa821",
   "metadata": {
    "scrolled": false
   },
   "outputs": [],
   "source": [
    "dataframe=pd.DataFrame(np.random.randint(500,1000,size=(20,3)),columns=list('abc'))"
   ]
  },
  {
   "cell_type": "code",
   "execution_count": null,
   "id": "8de48f85",
   "metadata": {},
   "outputs": [],
   "source": [
    "dataframe"
   ]
  },
  {
   "cell_type": "markdown",
   "id": "06f55710",
   "metadata": {},
   "source": [
    "# data normal;ization"
   ]
  },
  {
   "cell_type": "code",
   "execution_count": null,
   "id": "fcb6918f",
   "metadata": {},
   "outputs": [],
   "source": [
    "normalization_df=pd.DataFrame({'x':np.random.randint(-100,100,1000),\n",
    "                               'y':np.random.randint(-80,80,1000),\n",
    "                               'z':np.random.randint(-150,150,1000)})"
   ]
  },
  {
   "cell_type": "code",
   "execution_count": null,
   "id": "d8078597",
   "metadata": {
    "scrolled": true
   },
   "outputs": [],
   "source": [
    "normalization_df"
   ]
  },
  {
   "cell_type": "code",
   "execution_count": null,
   "id": "01dc6732",
   "metadata": {},
   "outputs": [],
   "source": [
    "ax =plt.axes(projection='3d')\n",
    "ax.scatter3D(normalization_df.x,normalization_df.y,normalization_df.z)\n",
    "plt.figure()"
   ]
  },
  {
   "cell_type": "code",
   "execution_count": null,
   "id": "c0e0bdd6",
   "metadata": {
    "scrolled": true
   },
   "outputs": [],
   "source": [
    "pip install scikit_learn"
   ]
  },
  {
   "cell_type": "code",
   "execution_count": null,
   "id": "3fb726e9",
   "metadata": {},
   "outputs": [],
   "source": [
    "from sklearn.preprocessing import Normalizer"
   ]
  },
  {
   "cell_type": "code",
   "execution_count": null,
   "id": "2963572d",
   "metadata": {},
   "outputs": [],
   "source": [
    "normal = Normalizer()"
   ]
  },
  {
   "cell_type": "code",
   "execution_count": null,
   "id": "80e7c416",
   "metadata": {},
   "outputs": [],
   "source": [
    "normalization_df = normal.fit_transform(normalization_df)"
   ]
  },
  {
   "cell_type": "code",
   "execution_count": null,
   "id": "fbe33143",
   "metadata": {},
   "outputs": [],
   "source": [
    "normalization_df"
   ]
  },
  {
   "cell_type": "code",
   "execution_count": null,
   "id": "0dd0e83e",
   "metadata": {},
   "outputs": [],
   "source": [
    "norm_df = pd.DataFrame(normalization_df,column=['x1,'x2',x3])"
   ]
  },
  {
   "cell_type": "code",
   "execution_count": null,
   "id": "9b4d9d19",
   "metadata": {},
   "outputs": [],
   "source": [
    "ax=plt.axes(projection='3d')\n",
    "ax.scatter3d(norm_df.x1,norm_df.x2,norm_df.x3)\n",
    "plt.fiugure()"
   ]
  },
  {
   "cell_type": "code",
   "execution_count": null,
   "id": "a8940606",
   "metadata": {},
   "outputs": [],
   "source": []
  }
 ],
 "metadata": {
  "kernelspec": {
   "display_name": "Python 3 (ipykernel)",
   "language": "python",
   "name": "python3"
  },
  "language_info": {
   "codemirror_mode": {
    "name": "ipython",
    "version": 3
   },
   "file_extension": ".py",
   "mimetype": "text/x-python",
   "name": "python",
   "nbconvert_exporter": "python",
   "pygments_lexer": "ipython3",
   "version": "3.9.17"
  }
 },
 "nbformat": 4,
 "nbformat_minor": 5
}
